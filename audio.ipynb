{
  "nbformat": 4,
  "nbformat_minor": 0,
  "metadata": {
    "colab": {
      "name": "Untitled0.ipynb",
      "provenance": [],
      "authorship_tag": "ABX9TyNI5P/llppPCqdJg1TEjMF3",
      "include_colab_link": true
    },
    "kernelspec": {
      "name": "python3",
      "display_name": "Python 3"
    },
    "accelerator": "GPU"
  },
  "cells": [
    {
      "cell_type": "markdown",
      "metadata": {
        "id": "view-in-github",
        "colab_type": "text"
      },
      "source": [
        "<a href=\"https://colab.research.google.com/github/Paradorn657/help/blob/master/audio.ipynb\" target=\"_parent\"><img src=\"https://colab.research.google.com/assets/colab-badge.svg\" alt=\"Open In Colab\"/></a>"
      ]
    },
    {
      "cell_type": "code",
      "metadata": {
        "id": "guapCRgnq4Le",
        "colab_type": "code",
        "colab": {}
      },
      "source": [
        "%tensorflow_version 2.x\n",
        "import tensorflow as tf\n",
        "import numpy as np \n",
        "import librosa"
      ],
      "execution_count": 0,
      "outputs": []
    },
    {
      "cell_type": "code",
      "metadata": {
        "id": "jvlvYzNlq9V2",
        "colab_type": "code",
        "colab": {}
      },
      "source": [
        "from IPython.display import Javascript\n",
        "from google.colab import output\n",
        "from base64 import b64decode\n",
        "from io import BytesIO\n",
        "!pip -q install pydub\n",
        "from pydub import AudioSegment\n",
        "\n",
        "RECORD = \"\"\"\n",
        "const sleep  = time => new Promise(resolve => setTimeout(resolve, time))\n",
        "const b2text = blob => new Promise(resolve => {\n",
        "  const reader = new FileReader()\n",
        "  reader.onloadend = e => resolve(e.srcElement.result)\n",
        "  reader.readAsDataURL(blob)\n",
        "})\n",
        "var record = time => new Promise(async resolve => {\n",
        "  stream = await navigator.mediaDevices.getUserMedia({ audio: true })\n",
        "  recorder = new MediaRecorder(stream)\n",
        "  chunks = []\n",
        "  recorder.ondataavailable = e => chunks.push(e.data)\n",
        "  recorder.start()\n",
        "  await sleep(time)\n",
        "  recorder.onstop = async ()=>{\n",
        "    blob = new Blob(chunks)\n",
        "    text = await b2text(blob)\n",
        "    resolve(text)\n",
        "  }\n",
        "  recorder.stop()\n",
        "})\n",
        "\"\"\"\n",
        "\n",
        "def record(sec=3):\n",
        "  display(Javascript(RECORD))\n",
        "  s = output.eval_js('record(%d)' % (sec*1000))\n",
        "  b = b64decode(s.split(',')[1])\n",
        "  audio = AudioSegment.from_file(BytesIO(b))\n",
        "  return audio"
      ],
      "execution_count": 0,
      "outputs": []
    },
    {
      "cell_type": "code",
      "metadata": {
        "id": "5nIy2_NPrmjv",
        "colab_type": "code",
        "outputId": "70045297-5eb1-46dc-8dff-8f4e45632c8e",
        "colab": {
          "base_uri": "https://localhost:8080/",
          "height": 34
        }
      },
      "source": [
        "print(\"พูดเลย\")\n",
        "x = record(2)"
      ],
      "execution_count": 0,
      "outputs": [
        {
          "output_type": "stream",
          "text": [
            "พูดเลย\n"
          ],
          "name": "stdout"
        },
        {
          "output_type": "display_data",
          "data": {
            "application/javascript": [
              "\n",
              "const sleep  = time => new Promise(resolve => setTimeout(resolve, time))\n",
              "const b2text = blob => new Promise(resolve => {\n",
              "  const reader = new FileReader()\n",
              "  reader.onloadend = e => resolve(e.srcElement.result)\n",
              "  reader.readAsDataURL(blob)\n",
              "})\n",
              "var record = time => new Promise(async resolve => {\n",
              "  stream = await navigator.mediaDevices.getUserMedia({ audio: true })\n",
              "  recorder = new MediaRecorder(stream)\n",
              "  chunks = []\n",
              "  recorder.ondataavailable = e => chunks.push(e.data)\n",
              "  recorder.start()\n",
              "  await sleep(time)\n",
              "  recorder.onstop = async ()=>{\n",
              "    blob = new Blob(chunks)\n",
              "    text = await b2text(blob)\n",
              "    resolve(text)\n",
              "  }\n",
              "  recorder.stop()\n",
              "})\n"
            ],
            "text/plain": [
              "<IPython.core.display.Javascript object>"
            ]
          },
          "metadata": {
            "tags": []
          }
        }
      ]
    },
    {
      "cell_type": "code",
      "metadata": {
        "id": "Rj1lziYFsAhl",
        "colab_type": "code",
        "outputId": "bb99598a-3074-4445-b6f2-7448a6a40d6d",
        "colab": {
          "base_uri": "https://localhost:8080/",
          "height": 75
        }
      },
      "source": [
        "x"
      ],
      "execution_count": 0,
      "outputs": [
        {
          "output_type": "execute_result",
          "data": {
            "text/html": [
              "\n",
              "                    <audio controls>\n",
              "                        <source src=\"data:audio/mpeg;base64,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\" type=\"audio/mpeg\"/>\n",
              "                        Your browser does not support the audio element.\n",
              "                    </audio>\n",
              "                  "
            ],
            "text/plain": [
              "<pydub.audio_segment.AudioSegment at 0x7f5da8b3d550>"
            ]
          },
          "metadata": {
            "tags": []
          },
          "execution_count": 6
        }
      ]
    },
    {
      "cell_type": "code",
      "metadata": {
        "id": "aEYRxqqWsL6V",
        "colab_type": "code",
        "outputId": "f0d93e63-8d7e-4405-dad8-6aada05e632c",
        "colab": {
          "base_uri": "https://localhost:8080/",
          "height": 34
        }
      },
      "source": [
        "x = np.array(x.get_array_of_samples(),np.float32)\n",
        "x = librosa.feature.mfcc(x)\n",
        "print(x.shape)"
      ],
      "execution_count": 0,
      "outputs": [
        {
          "output_type": "stream",
          "text": [
            "(20, 186)\n"
          ],
          "name": "stdout"
        }
      ]
    },
    {
      "cell_type": "code",
      "metadata": {
        "id": "OmisQKmgtSRn",
        "colab_type": "code",
        "colab": {}
      },
      "source": [
        "X = []\n",
        "Y = []\n",
        "names = [\"ภราดร\",\"จันทร์เจริญ\"]"
      ],
      "execution_count": 0,
      "outputs": []
    },
    {
      "cell_type": "code",
      "metadata": {
        "id": "jDIbbpastrE9",
        "colab_type": "code",
        "colab": {}
      },
      "source": [
        "def recordmfc():\n",
        "  print(\"พูดเลย\")\n",
        "  x = record(2)\n",
        "  x = np.array(x.get_array_of_samples(),np.float32)\n",
        "  return librosa.feature.mfcc(x)"
      ],
      "execution_count": 0,
      "outputs": []
    },
    {
      "cell_type": "code",
      "metadata": {
        "id": "fQmBDxhZt2ct",
        "colab_type": "code",
        "outputId": "a1af5186-c980-47f7-972f-698d1ce75d71",
        "colab": {
          "base_uri": "https://localhost:8080/",
          "height": 187
        }
      },
      "source": [
        "for i in range(10):\n",
        "  x = recordmfc()\n",
        "  X.append(x)\n",
        "  Y.append(names.index(\"จันทร์เจริญ\"))"
      ],
      "execution_count": 0,
      "outputs": [
        {
          "output_type": "stream",
          "text": [
            "พูดเลย\n"
          ],
          "name": "stdout"
        },
        {
          "output_type": "display_data",
          "data": {
            "application/javascript": [
              "\n",
              "const sleep  = time => new Promise(resolve => setTimeout(resolve, time))\n",
              "const b2text = blob => new Promise(resolve => {\n",
              "  const reader = new FileReader()\n",
              "  reader.onloadend = e => resolve(e.srcElement.result)\n",
              "  reader.readAsDataURL(blob)\n",
              "})\n",
              "var record = time => new Promise(async resolve => {\n",
              "  stream = await navigator.mediaDevices.getUserMedia({ audio: true })\n",
              "  recorder = new MediaRecorder(stream)\n",
              "  chunks = []\n",
              "  recorder.ondataavailable = e => chunks.push(e.data)\n",
              "  recorder.start()\n",
              "  await sleep(time)\n",
              "  recorder.onstop = async ()=>{\n",
              "    blob = new Blob(chunks)\n",
              "    text = await b2text(blob)\n",
              "    resolve(text)\n",
              "  }\n",
              "  recorder.stop()\n",
              "})\n"
            ],
            "text/plain": [
              "<IPython.core.display.Javascript object>"
            ]
          },
          "metadata": {
            "tags": []
          }
        },
        {
          "output_type": "stream",
          "text": [
            "พูดเลย\n"
          ],
          "name": "stdout"
        },
        {
          "output_type": "display_data",
          "data": {
            "application/javascript": [
              "\n",
              "const sleep  = time => new Promise(resolve => setTimeout(resolve, time))\n",
              "const b2text = blob => new Promise(resolve => {\n",
              "  const reader = new FileReader()\n",
              "  reader.onloadend = e => resolve(e.srcElement.result)\n",
              "  reader.readAsDataURL(blob)\n",
              "})\n",
              "var record = time => new Promise(async resolve => {\n",
              "  stream = await navigator.mediaDevices.getUserMedia({ audio: true })\n",
              "  recorder = new MediaRecorder(stream)\n",
              "  chunks = []\n",
              "  recorder.ondataavailable = e => chunks.push(e.data)\n",
              "  recorder.start()\n",
              "  await sleep(time)\n",
              "  recorder.onstop = async ()=>{\n",
              "    blob = new Blob(chunks)\n",
              "    text = await b2text(blob)\n",
              "    resolve(text)\n",
              "  }\n",
              "  recorder.stop()\n",
              "})\n"
            ],
            "text/plain": [
              "<IPython.core.display.Javascript object>"
            ]
          },
          "metadata": {
            "tags": []
          }
        },
        {
          "output_type": "stream",
          "text": [
            "พูดเลย\n"
          ],
          "name": "stdout"
        },
        {
          "output_type": "display_data",
          "data": {
            "application/javascript": [
              "\n",
              "const sleep  = time => new Promise(resolve => setTimeout(resolve, time))\n",
              "const b2text = blob => new Promise(resolve => {\n",
              "  const reader = new FileReader()\n",
              "  reader.onloadend = e => resolve(e.srcElement.result)\n",
              "  reader.readAsDataURL(blob)\n",
              "})\n",
              "var record = time => new Promise(async resolve => {\n",
              "  stream = await navigator.mediaDevices.getUserMedia({ audio: true })\n",
              "  recorder = new MediaRecorder(stream)\n",
              "  chunks = []\n",
              "  recorder.ondataavailable = e => chunks.push(e.data)\n",
              "  recorder.start()\n",
              "  await sleep(time)\n",
              "  recorder.onstop = async ()=>{\n",
              "    blob = new Blob(chunks)\n",
              "    text = await b2text(blob)\n",
              "    resolve(text)\n",
              "  }\n",
              "  recorder.stop()\n",
              "})\n"
            ],
            "text/plain": [
              "<IPython.core.display.Javascript object>"
            ]
          },
          "metadata": {
            "tags": []
          }
        },
        {
          "output_type": "stream",
          "text": [
            "พูดเลย\n"
          ],
          "name": "stdout"
        },
        {
          "output_type": "display_data",
          "data": {
            "application/javascript": [
              "\n",
              "const sleep  = time => new Promise(resolve => setTimeout(resolve, time))\n",
              "const b2text = blob => new Promise(resolve => {\n",
              "  const reader = new FileReader()\n",
              "  reader.onloadend = e => resolve(e.srcElement.result)\n",
              "  reader.readAsDataURL(blob)\n",
              "})\n",
              "var record = time => new Promise(async resolve => {\n",
              "  stream = await navigator.mediaDevices.getUserMedia({ audio: true })\n",
              "  recorder = new MediaRecorder(stream)\n",
              "  chunks = []\n",
              "  recorder.ondataavailable = e => chunks.push(e.data)\n",
              "  recorder.start()\n",
              "  await sleep(time)\n",
              "  recorder.onstop = async ()=>{\n",
              "    blob = new Blob(chunks)\n",
              "    text = await b2text(blob)\n",
              "    resolve(text)\n",
              "  }\n",
              "  recorder.stop()\n",
              "})\n"
            ],
            "text/plain": [
              "<IPython.core.display.Javascript object>"
            ]
          },
          "metadata": {
            "tags": []
          }
        },
        {
          "output_type": "stream",
          "text": [
            "พูดเลย\n"
          ],
          "name": "stdout"
        },
        {
          "output_type": "display_data",
          "data": {
            "application/javascript": [
              "\n",
              "const sleep  = time => new Promise(resolve => setTimeout(resolve, time))\n",
              "const b2text = blob => new Promise(resolve => {\n",
              "  const reader = new FileReader()\n",
              "  reader.onloadend = e => resolve(e.srcElement.result)\n",
              "  reader.readAsDataURL(blob)\n",
              "})\n",
              "var record = time => new Promise(async resolve => {\n",
              "  stream = await navigator.mediaDevices.getUserMedia({ audio: true })\n",
              "  recorder = new MediaRecorder(stream)\n",
              "  chunks = []\n",
              "  recorder.ondataavailable = e => chunks.push(e.data)\n",
              "  recorder.start()\n",
              "  await sleep(time)\n",
              "  recorder.onstop = async ()=>{\n",
              "    blob = new Blob(chunks)\n",
              "    text = await b2text(blob)\n",
              "    resolve(text)\n",
              "  }\n",
              "  recorder.stop()\n",
              "})\n"
            ],
            "text/plain": [
              "<IPython.core.display.Javascript object>"
            ]
          },
          "metadata": {
            "tags": []
          }
        },
        {
          "output_type": "stream",
          "text": [
            "พูดเลย\n"
          ],
          "name": "stdout"
        },
        {
          "output_type": "display_data",
          "data": {
            "application/javascript": [
              "\n",
              "const sleep  = time => new Promise(resolve => setTimeout(resolve, time))\n",
              "const b2text = blob => new Promise(resolve => {\n",
              "  const reader = new FileReader()\n",
              "  reader.onloadend = e => resolve(e.srcElement.result)\n",
              "  reader.readAsDataURL(blob)\n",
              "})\n",
              "var record = time => new Promise(async resolve => {\n",
              "  stream = await navigator.mediaDevices.getUserMedia({ audio: true })\n",
              "  recorder = new MediaRecorder(stream)\n",
              "  chunks = []\n",
              "  recorder.ondataavailable = e => chunks.push(e.data)\n",
              "  recorder.start()\n",
              "  await sleep(time)\n",
              "  recorder.onstop = async ()=>{\n",
              "    blob = new Blob(chunks)\n",
              "    text = await b2text(blob)\n",
              "    resolve(text)\n",
              "  }\n",
              "  recorder.stop()\n",
              "})\n"
            ],
            "text/plain": [
              "<IPython.core.display.Javascript object>"
            ]
          },
          "metadata": {
            "tags": []
          }
        },
        {
          "output_type": "stream",
          "text": [
            "พูดเลย\n"
          ],
          "name": "stdout"
        },
        {
          "output_type": "display_data",
          "data": {
            "application/javascript": [
              "\n",
              "const sleep  = time => new Promise(resolve => setTimeout(resolve, time))\n",
              "const b2text = blob => new Promise(resolve => {\n",
              "  const reader = new FileReader()\n",
              "  reader.onloadend = e => resolve(e.srcElement.result)\n",
              "  reader.readAsDataURL(blob)\n",
              "})\n",
              "var record = time => new Promise(async resolve => {\n",
              "  stream = await navigator.mediaDevices.getUserMedia({ audio: true })\n",
              "  recorder = new MediaRecorder(stream)\n",
              "  chunks = []\n",
              "  recorder.ondataavailable = e => chunks.push(e.data)\n",
              "  recorder.start()\n",
              "  await sleep(time)\n",
              "  recorder.onstop = async ()=>{\n",
              "    blob = new Blob(chunks)\n",
              "    text = await b2text(blob)\n",
              "    resolve(text)\n",
              "  }\n",
              "  recorder.stop()\n",
              "})\n"
            ],
            "text/plain": [
              "<IPython.core.display.Javascript object>"
            ]
          },
          "metadata": {
            "tags": []
          }
        },
        {
          "output_type": "stream",
          "text": [
            "พูดเลย\n"
          ],
          "name": "stdout"
        },
        {
          "output_type": "display_data",
          "data": {
            "application/javascript": [
              "\n",
              "const sleep  = time => new Promise(resolve => setTimeout(resolve, time))\n",
              "const b2text = blob => new Promise(resolve => {\n",
              "  const reader = new FileReader()\n",
              "  reader.onloadend = e => resolve(e.srcElement.result)\n",
              "  reader.readAsDataURL(blob)\n",
              "})\n",
              "var record = time => new Promise(async resolve => {\n",
              "  stream = await navigator.mediaDevices.getUserMedia({ audio: true })\n",
              "  recorder = new MediaRecorder(stream)\n",
              "  chunks = []\n",
              "  recorder.ondataavailable = e => chunks.push(e.data)\n",
              "  recorder.start()\n",
              "  await sleep(time)\n",
              "  recorder.onstop = async ()=>{\n",
              "    blob = new Blob(chunks)\n",
              "    text = await b2text(blob)\n",
              "    resolve(text)\n",
              "  }\n",
              "  recorder.stop()\n",
              "})\n"
            ],
            "text/plain": [
              "<IPython.core.display.Javascript object>"
            ]
          },
          "metadata": {
            "tags": []
          }
        },
        {
          "output_type": "stream",
          "text": [
            "พูดเลย\n"
          ],
          "name": "stdout"
        },
        {
          "output_type": "display_data",
          "data": {
            "application/javascript": [
              "\n",
              "const sleep  = time => new Promise(resolve => setTimeout(resolve, time))\n",
              "const b2text = blob => new Promise(resolve => {\n",
              "  const reader = new FileReader()\n",
              "  reader.onloadend = e => resolve(e.srcElement.result)\n",
              "  reader.readAsDataURL(blob)\n",
              "})\n",
              "var record = time => new Promise(async resolve => {\n",
              "  stream = await navigator.mediaDevices.getUserMedia({ audio: true })\n",
              "  recorder = new MediaRecorder(stream)\n",
              "  chunks = []\n",
              "  recorder.ondataavailable = e => chunks.push(e.data)\n",
              "  recorder.start()\n",
              "  await sleep(time)\n",
              "  recorder.onstop = async ()=>{\n",
              "    blob = new Blob(chunks)\n",
              "    text = await b2text(blob)\n",
              "    resolve(text)\n",
              "  }\n",
              "  recorder.stop()\n",
              "})\n"
            ],
            "text/plain": [
              "<IPython.core.display.Javascript object>"
            ]
          },
          "metadata": {
            "tags": []
          }
        },
        {
          "output_type": "stream",
          "text": [
            "พูดเลย\n"
          ],
          "name": "stdout"
        },
        {
          "output_type": "display_data",
          "data": {
            "application/javascript": [
              "\n",
              "const sleep  = time => new Promise(resolve => setTimeout(resolve, time))\n",
              "const b2text = blob => new Promise(resolve => {\n",
              "  const reader = new FileReader()\n",
              "  reader.onloadend = e => resolve(e.srcElement.result)\n",
              "  reader.readAsDataURL(blob)\n",
              "})\n",
              "var record = time => new Promise(async resolve => {\n",
              "  stream = await navigator.mediaDevices.getUserMedia({ audio: true })\n",
              "  recorder = new MediaRecorder(stream)\n",
              "  chunks = []\n",
              "  recorder.ondataavailable = e => chunks.push(e.data)\n",
              "  recorder.start()\n",
              "  await sleep(time)\n",
              "  recorder.onstop = async ()=>{\n",
              "    blob = new Blob(chunks)\n",
              "    text = await b2text(blob)\n",
              "    resolve(text)\n",
              "  }\n",
              "  recorder.stop()\n",
              "})\n"
            ],
            "text/plain": [
              "<IPython.core.display.Javascript object>"
            ]
          },
          "metadata": {
            "tags": []
          }
        }
      ]
    },
    {
      "cell_type": "code",
      "metadata": {
        "id": "kB6RIoxnvAEm",
        "colab_type": "code",
        "outputId": "7d2a2ab0-44cc-4eba-c755-46920661b5eb",
        "colab": {
          "base_uri": "https://localhost:8080/",
          "height": 34
        }
      },
      "source": [
        "X = np.array(X)\n",
        "Y = np.array(Y)\n",
        "print(X.shape)"
      ],
      "execution_count": 0,
      "outputs": [
        {
          "output_type": "stream",
          "text": [
            "(20, 20, 186)\n"
          ],
          "name": "stdout"
        }
      ]
    },
    {
      "cell_type": "code",
      "metadata": {
        "id": "SwjdDt_zvNve",
        "colab_type": "code",
        "outputId": "2dbbb2fb-969f-42d7-c680-8e6b45b5b2da",
        "colab": {
          "base_uri": "https://localhost:8080/",
          "height": 34
        }
      },
      "source": [
        "Y"
      ],
      "execution_count": 0,
      "outputs": [
        {
          "output_type": "execute_result",
          "data": {
            "text/plain": [
              "array([0, 0, 0, 0, 0, 0, 0, 0, 0, 0, 1, 1, 1, 1, 1, 1, 1, 1, 1, 1])"
            ]
          },
          "metadata": {
            "tags": []
          },
          "execution_count": 14
        }
      ]
    },
    {
      "cell_type": "code",
      "metadata": {
        "id": "GX4TrqGNvUbV",
        "colab_type": "code",
        "colab": {}
      },
      "source": [
        "model = tf.keras.Sequential()\n",
        "model.add(tf.keras.layers.Conv2D(64,5,input_shape=(20,186,1),activation=\"relu\"))\n",
        "model.add(tf.keras.layers.Dropout(0.5))\n",
        "model.add(tf.keras.layers.MaxPooling2D())\n",
        "model.add(tf.keras.layers.Conv2D(64,5,activation=\"relu\"))\n",
        "model.add(tf.keras.layers.Dropout(0.5))\n",
        "model.add(tf.keras.layers.MaxPooling2D())\n",
        "model.add(tf.keras.layers.Flatten())\n",
        "model.add(tf.keras.layers.Dense(128,activation=\"relu\"))\n",
        "model.add(tf.keras.layers.Dropout(0.5))\n",
        "model.add(tf.keras.layers.Dense(2,activation=\"softmax\"))\n",
        "model.compile(optimizer=\"adam\",loss=\"sparse_categorical_crossentropy\",metrics = [\"accuracy\"])"
      ],
      "execution_count": 0,
      "outputs": []
    },
    {
      "cell_type": "code",
      "metadata": {
        "id": "vf_PxkUpw7Ke",
        "colab_type": "code",
        "outputId": "27884a11-4f80-444a-9bf6-7b06cd4398f1",
        "colab": {
          "base_uri": "https://localhost:8080/",
          "height": 1000
        }
      },
      "source": [
        "model.fit(X[:,:,:,None],Y,epochs=30)"
      ],
      "execution_count": 0,
      "outputs": [
        {
          "output_type": "stream",
          "text": [
            "Epoch 1/30\n",
            "1/1 [==============================] - 0s 988us/step - loss: 0.1865 - accuracy: 0.9500\n",
            "Epoch 2/30\n",
            "1/1 [==============================] - 0s 876us/step - loss: 0.2363 - accuracy: 0.9000\n",
            "Epoch 3/30\n",
            "1/1 [==============================] - 0s 836us/step - loss: 0.1973 - accuracy: 0.9500\n",
            "Epoch 4/30\n",
            "1/1 [==============================] - 0s 3ms/step - loss: 0.1608 - accuracy: 0.9500\n",
            "Epoch 5/30\n",
            "1/1 [==============================] - 0s 993us/step - loss: 0.0943 - accuracy: 0.9500\n",
            "Epoch 6/30\n",
            "1/1 [==============================] - 0s 2ms/step - loss: 0.1250 - accuracy: 0.9500\n",
            "Epoch 7/30\n",
            "1/1 [==============================] - 0s 2ms/step - loss: 0.1981 - accuracy: 0.8500\n",
            "Epoch 8/30\n",
            "1/1 [==============================] - 0s 992us/step - loss: 0.1889 - accuracy: 0.9000\n",
            "Epoch 9/30\n",
            "1/1 [==============================] - 0s 1ms/step - loss: 0.0869 - accuracy: 0.9500\n",
            "Epoch 10/30\n",
            "1/1 [==============================] - 0s 1ms/step - loss: 0.1943 - accuracy: 0.9500\n",
            "Epoch 11/30\n",
            "1/1 [==============================] - 0s 974us/step - loss: 0.0465 - accuracy: 1.0000\n",
            "Epoch 12/30\n",
            "1/1 [==============================] - 0s 1ms/step - loss: 0.0320 - accuracy: 1.0000\n",
            "Epoch 13/30\n",
            "1/1 [==============================] - 0s 1ms/step - loss: 0.0471 - accuracy: 1.0000\n",
            "Epoch 14/30\n",
            "1/1 [==============================] - 0s 989us/step - loss: 0.1183 - accuracy: 0.9500\n",
            "Epoch 15/30\n",
            "1/1 [==============================] - 0s 1ms/step - loss: 0.0334 - accuracy: 1.0000\n",
            "Epoch 16/30\n",
            "1/1 [==============================] - 0s 992us/step - loss: 0.0190 - accuracy: 1.0000\n",
            "Epoch 17/30\n",
            "1/1 [==============================] - 0s 1ms/step - loss: 0.0304 - accuracy: 1.0000\n",
            "Epoch 18/30\n",
            "1/1 [==============================] - 0s 861us/step - loss: 0.0183 - accuracy: 1.0000\n",
            "Epoch 19/30\n",
            "1/1 [==============================] - 0s 1ms/step - loss: 0.0295 - accuracy: 1.0000\n",
            "Epoch 20/30\n",
            "1/1 [==============================] - 0s 921us/step - loss: 0.0156 - accuracy: 1.0000\n",
            "Epoch 21/30\n",
            "1/1 [==============================] - 0s 1ms/step - loss: 0.0088 - accuracy: 1.0000\n",
            "Epoch 22/30\n",
            "1/1 [==============================] - 0s 1ms/step - loss: 0.0045 - accuracy: 1.0000\n",
            "Epoch 23/30\n",
            "1/1 [==============================] - 0s 2ms/step - loss: 0.0629 - accuracy: 0.9500\n",
            "Epoch 24/30\n",
            "1/1 [==============================] - 0s 2ms/step - loss: 0.0047 - accuracy: 1.0000\n",
            "Epoch 25/30\n",
            "1/1 [==============================] - 0s 1ms/step - loss: 0.0066 - accuracy: 1.0000\n",
            "Epoch 26/30\n",
            "1/1 [==============================] - 0s 1ms/step - loss: 0.0049 - accuracy: 1.0000\n",
            "Epoch 27/30\n",
            "1/1 [==============================] - 0s 1ms/step - loss: 0.0031 - accuracy: 1.0000\n",
            "Epoch 28/30\n",
            "1/1 [==============================] - 0s 757us/step - loss: 0.0011 - accuracy: 1.0000\n",
            "Epoch 29/30\n",
            "1/1 [==============================] - 0s 1ms/step - loss: 0.0051 - accuracy: 1.0000\n",
            "Epoch 30/30\n",
            "1/1 [==============================] - 0s 997us/step - loss: 0.0015 - accuracy: 1.0000\n"
          ],
          "name": "stdout"
        },
        {
          "output_type": "execute_result",
          "data": {
            "text/plain": [
              "<tensorflow.python.keras.callbacks.History at 0x7f5d7e63b128>"
            ]
          },
          "metadata": {
            "tags": []
          },
          "execution_count": 28
        }
      ]
    },
    {
      "cell_type": "code",
      "metadata": {
        "id": "HBs9MKbHyB5a",
        "colab_type": "code",
        "outputId": "5737662c-f79d-47e2-84f4-bfcde0b93435",
        "colab": {
          "base_uri": "https://localhost:8080/",
          "height": 51
        }
      },
      "source": [
        "x = recordmfc()\n",
        "names[model.predict(x[None,:,:,None]).argmax()]"
      ],
      "execution_count": 0,
      "outputs": [
        {
          "output_type": "stream",
          "text": [
            "พูดเลย\n"
          ],
          "name": "stdout"
        },
        {
          "output_type": "display_data",
          "data": {
            "application/javascript": [
              "\n",
              "const sleep  = time => new Promise(resolve => setTimeout(resolve, time))\n",
              "const b2text = blob => new Promise(resolve => {\n",
              "  const reader = new FileReader()\n",
              "  reader.onloadend = e => resolve(e.srcElement.result)\n",
              "  reader.readAsDataURL(blob)\n",
              "})\n",
              "var record = time => new Promise(async resolve => {\n",
              "  stream = await navigator.mediaDevices.getUserMedia({ audio: true })\n",
              "  recorder = new MediaRecorder(stream)\n",
              "  chunks = []\n",
              "  recorder.ondataavailable = e => chunks.push(e.data)\n",
              "  recorder.start()\n",
              "  await sleep(time)\n",
              "  recorder.onstop = async ()=>{\n",
              "    blob = new Blob(chunks)\n",
              "    text = await b2text(blob)\n",
              "    resolve(text)\n",
              "  }\n",
              "  recorder.stop()\n",
              "})\n"
            ],
            "text/plain": [
              "<IPython.core.display.Javascript object>"
            ]
          },
          "metadata": {
            "tags": []
          }
        },
        {
          "output_type": "execute_result",
          "data": {
            "text/plain": [
              "'จันทร์เจริญ'"
            ]
          },
          "metadata": {
            "tags": []
          },
          "execution_count": 30
        }
      ]
    }
  ]
}